{
 "cells": [
  {
   "cell_type": "markdown",
   "id": "ac5a222d",
   "metadata": {},
   "source": [
    "## 1. Init"
   ]
  },
  {
   "cell_type": "markdown",
   "id": "0147fff2",
   "metadata": {},
   "source": [
    "### Imports"
   ]
  },
  {
   "cell_type": "code",
   "execution_count": 1,
   "id": "fa5a5527",
   "metadata": {},
   "outputs": [
    {
     "name": "stdout",
     "output_type": "stream",
     "text": [
      "Warning, cannot find cuda-compiled version of RoPE2D, using a slow pytorch version instead\n"
     ]
    }
   ],
   "source": [
    "import torch\n",
    "import argparse\n",
    "from pi3.utils.basic import load_images_as_tensor, write_ply\n",
    "from pi3.utils.geometry import depth_edge\n",
    "from pi3.models.pi3 import Pi3\n",
    "from dataclasses import dataclass\n",
    "from modules.dataloader import MTMCTrackingDataset, Pi3Transform"
   ]
  },
  {
   "cell_type": "markdown",
   "id": "2ac3f7d8",
   "metadata": {},
   "source": [
    "### Prepare"
   ]
  },
  {
   "cell_type": "code",
   "execution_count": null,
   "id": "3740349d",
   "metadata": {},
   "outputs": [],
   "source": [
    "@dataclass\n",
    "class Args:\n",
    "    data_path: str = './data/MTMC_Tracking_2025' # Path to input image directory or a video file\n",
    "    save_path: str = 'examples/result.ply' # Path to save the output .ply file\n",
    "    interval: int = -1 # Interval to sample image. Default: 1 for images dir, 10 for video\n",
    "    ckpt: str = './weights/pi3.safetensors' # Path to the model checkpoint file. Default: None\n",
    "    device: str = 'cuda' # Device to run inference on ('cuda' or 'cpu'). Default: 'cuda'"
   ]
  },
  {
   "cell_type": "code",
   "execution_count": 3,
   "id": "93ec5066",
   "metadata": {},
   "outputs": [],
   "source": [
    "# 1. Prepare model\n",
    "device = torch.device(Args().device if torch.cuda.is_available() else 'cpu')\n",
    "if Args.ckpt is not None:\n",
    "    model = Pi3().to(device).eval()\n",
    "    if Args.ckpt.endswith('.safetensors'):\n",
    "        from safetensors.torch import load_file\n",
    "        weight = load_file(Args.ckpt)\n",
    "    else:\n",
    "        weight = torch.load(Args.ckpt, map_location=device, weights_only=False)\n",
    "    \n",
    "    model.load_state_dict(weight)\n",
    "else:\n",
    "    model = Pi3.from_pretrained(\"yyfz233/Pi3\").to(device).eval()"
   ]
  },
  {
   "cell_type": "markdown",
   "id": "61960760",
   "metadata": {},
   "source": [
    "## 2. Data + Preprocessing"
   ]
  },
  {
   "cell_type": "code",
   "execution_count": 4,
   "id": "6d2dd80a",
   "metadata": {},
   "outputs": [
    {
     "name": "stdout",
     "output_type": "stream",
     "text": [
      "Found 15 scenes in train split\n",
      "Loading annotations...\n",
      "Initializing video cache for 15 scenes...\n"
     ]
    },
    {
     "name": "stderr",
     "output_type": "stream",
     "text": [
      "Loading scenes: 100%|██████████| 15/15 [00:00<00:00, 60.23it/s]"
     ]
    },
    {
     "name": "stdout",
     "output_type": "stream",
     "text": [
      "Building frame index...\n",
      "Dataset initialized with 135000 frames\n"
     ]
    },
    {
     "name": "stderr",
     "output_type": "stream",
     "text": [
      "\n"
     ]
    }
   ],
   "source": [
    "dataset_train = MTMCTrackingDataset(data_root=Args.data_path, split='train', transform=Pi3Transform(pixel_limit=255000))"
   ]
  },
  {
   "cell_type": "code",
   "execution_count": 7,
   "id": "a49a5ab8",
   "metadata": {},
   "outputs": [
    {
     "data": {
      "text/plain": [
       "dict_keys(['images', 'intrinsics', 'extrinsics', 'camera_ids', 'annotations', 'scene_id', 'frame_idx'])"
      ]
     },
     "execution_count": 7,
     "metadata": {},
     "output_type": "execute_result"
    }
   ],
   "source": [
    "sample_data = dataset_train[0]\n",
    "sample_data.keys()"
   ]
  },
  {
   "cell_type": "code",
   "execution_count": 13,
   "id": "84f470e0",
   "metadata": {},
   "outputs": [
    {
     "data": {
      "text/plain": [
       "torch.Tensor"
      ]
     },
     "execution_count": 13,
     "metadata": {},
     "output_type": "execute_result"
    }
   ],
   "source": [
    "type(sample_data['images'][0])"
   ]
  },
  {
   "cell_type": "code",
   "execution_count": 14,
   "id": "501c9e0a",
   "metadata": {},
   "outputs": [],
   "source": [
    "# 2. Prepare input data\n",
    "# The load_images_as_tensor function will print the loading path\n",
    "imgs = torch.stack(sample_data['images']).to(device)"
   ]
  },
  {
   "cell_type": "markdown",
   "id": "db982a02",
   "metadata": {},
   "source": [
    "## 3. Inference"
   ]
  },
  {
   "cell_type": "code",
   "execution_count": 16,
   "id": "b9c41f4b",
   "metadata": {},
   "outputs": [
    {
     "name": "stdout",
     "output_type": "stream",
     "text": [
      "Running model inference...\n"
     ]
    }
   ],
   "source": [
    "# 3. Infer\n",
    "print(\"Running model inference...\")\n",
    "dtype = torch.bfloat16 if torch.cuda.get_device_capability()[0] >= 8 else torch.float16\n",
    "with torch.no_grad():\n",
    "    with torch.amp.autocast('cuda', dtype=dtype):\n",
    "        res = model(imgs[None]) # Add batch dimension"
   ]
  },
  {
   "cell_type": "code",
   "execution_count": 17,
   "id": "9f862259",
   "metadata": {},
   "outputs": [],
   "source": [
    "# 4. process mask\n",
    "masks = torch.sigmoid(res['conf'][..., 0]) > 0.1\n",
    "non_edge = ~depth_edge(res['local_points'][..., 2], rtol=0.03)\n",
    "masks = torch.logical_and(masks, non_edge)[0]"
   ]
  },
  {
   "cell_type": "code",
   "execution_count": null,
   "id": "cf88c563",
   "metadata": {},
   "outputs": [
    {
     "name": "stdout",
     "output_type": "stream",
     "text": [
      "Saving point cloud to: examples/result.ply\n"
     ]
    }
   ],
   "source": [
    "# 5. Save points\n",
    "print(f\"Saving point cloud to: {Args.save_path}\")\n",
    "write_ply(res['points'][0][masks].cpu(), imgs.permute(0, 2, 3, 1)[masks], Args.save_path)\n",
    "print(\"Done.\")"
   ]
  }
 ],
 "metadata": {
  "kernelspec": {
   "display_name": ".venv (3.11.0)",
   "language": "python",
   "name": "python3"
  },
  "language_info": {
   "codemirror_mode": {
    "name": "ipython",
    "version": 3
   },
   "file_extension": ".py",
   "mimetype": "text/x-python",
   "name": "python",
   "nbconvert_exporter": "python",
   "pygments_lexer": "ipython3",
   "version": "3.11.0"
  }
 },
 "nbformat": 4,
 "nbformat_minor": 5
}
